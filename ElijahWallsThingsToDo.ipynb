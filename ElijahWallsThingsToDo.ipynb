{
 "cells": [
  {
   "cell_type": "code",
   "execution_count": 1,
   "id": "5d3bc456-bcc8-4be1-b9a0-60385004bb40",
   "metadata": {},
   "outputs": [],
   "source": [
    "# Things to Do Chapters 7 and 9\n",
    "# Elijah Walls\n",
    "# Goes over the Things to Do sections of chapters 7 and 9\n",
    "# 4/7/24"
   ]
  },
  {
   "cell_type": "code",
   "execution_count": 6,
   "id": "da6cbaf5-1942-4765-8721-ffde9276a8a0",
   "metadata": {},
   "outputs": [
    {
     "name": "stdout",
     "output_type": "stream",
     "text": [
      "['mozzarella', 'cinderella', 'salmonella']\n"
     ]
    }
   ],
   "source": [
    "# 7.4\n",
    "things = [\"mozzarella\", \"cinderella\", \"salmonella\"]\n",
    "print(things)"
   ]
  },
  {
   "cell_type": "code",
   "execution_count": 7,
   "id": "3d2a8639-5f48-4a95-ab7f-f73237409807",
   "metadata": {},
   "outputs": [
    {
     "name": "stdout",
     "output_type": "stream",
     "text": [
      "['mozzarella', 'Cinderella', 'salmonella']\n"
     ]
    }
   ],
   "source": [
    "# 7.5\n",
    "# Capitalize the element referring to a person\n",
    "person_index = things.index(\"cinderella\")\n",
    "things[person_index] = things[person_index].capitalize()\n",
    "\n",
    "print(things)\n",
    "\n",
    "# Yes it did change the element in the list"
   ]
  },
  {
   "cell_type": "code",
   "execution_count": 8,
   "id": "a711f547-2f3f-4cc8-9cd2-5ed81fb3c0b5",
   "metadata": {},
   "outputs": [
    {
     "name": "stdout",
     "output_type": "stream",
     "text": [
      "['MOZZARELLA', 'Cinderella', 'salmonella']\n"
     ]
    }
   ],
   "source": [
    "# 7.6\n",
    "things = [\"mozzarella\", \"Cinderella\", \"salmonella\"]\n",
    "\n",
    "# Find the cheesy element and make it uppercase\n",
    "cheesy_index = things.index(\"mozzarella\")\n",
    "things[cheesy_index] = things[cheesy_index].upper()\n",
    "\n",
    "print(things)"
   ]
  },
  {
   "cell_type": "code",
   "execution_count": 9,
   "id": "fa02fcb1-ae22-4bc0-a5d6-64db83c82849",
   "metadata": {},
   "outputs": [
    {
     "name": "stdout",
     "output_type": "stream",
     "text": [
      "['MOZZARELLA', 'Cinderella']\n"
     ]
    }
   ],
   "source": [
    "# 7.7\n",
    "things = [\"MOZZARELLA\", \"Cinderella\", \"salmonella\"]\n",
    "\n",
    "# Remove the disease element from the list\n",
    "things.remove(\"salmonella\")\n",
    "\n",
    "print(things)"
   ]
  },
  {
   "cell_type": "code",
   "execution_count": 10,
   "id": "2f03b7ac-a34e-473c-8038-aa85447f0e90",
   "metadata": {},
   "outputs": [
    {
     "name": "stdout",
     "output_type": "stream",
     "text": [
      "['Harry', 'Ron', 'Hermione']\n"
     ]
    }
   ],
   "source": [
    "# 9.1\n",
    "def good():\n",
    "    return ['Harry', 'Ron', 'Hermione']\n",
    "\n",
    "# Call the function and print the result\n",
    "print(good())"
   ]
  },
  {
   "cell_type": "code",
   "execution_count": 11,
   "id": "986d27a4-8417-40f4-8508-85e4ea694ec1",
   "metadata": {},
   "outputs": [
    {
     "name": "stdout",
     "output_type": "stream",
     "text": [
      "The third odd number returned is: 5\n"
     ]
    }
   ],
   "source": [
    "# 9.2\n",
    "def get_odds():\n",
    "    for num in range(1, 10, 2):\n",
    "        yield num\n",
    "\n",
    "# Use a for loop to find and print the third value returned\n",
    "count = 0\n",
    "for number in get_odds():\n",
    "    count += 1\n",
    "    if count == 3:\n",
    "        print(\"The third odd number returned is:\", number)\n",
    "        break"
   ]
  }
 ],
 "metadata": {
  "kernelspec": {
   "display_name": "Python 3 (ipykernel)",
   "language": "python",
   "name": "python3"
  },
  "language_info": {
   "codemirror_mode": {
    "name": "ipython",
    "version": 3
   },
   "file_extension": ".py",
   "mimetype": "text/x-python",
   "name": "python",
   "nbconvert_exporter": "python",
   "pygments_lexer": "ipython3",
   "version": "3.11.7"
  }
 },
 "nbformat": 4,
 "nbformat_minor": 5
}
